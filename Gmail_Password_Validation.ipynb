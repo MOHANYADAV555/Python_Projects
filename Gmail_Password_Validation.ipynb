{
 "cells": [
  {
   "cell_type": "markdown",
   "id": "f330d433",
   "metadata": {},
   "source": [
    "# Gmail and  Password Validation"
   ]
  },
  {
   "cell_type": "code",
   "execution_count": 84,
   "id": "52b9af3d",
   "metadata": {},
   "outputs": [],
   "source": [
    "file  =  open(\"registration.txt\",\"w\")"
   ]
  },
  {
   "cell_type": "markdown",
   "id": "ce0f24f3",
   "metadata": {},
   "source": [
    "# Registration"
   ]
  },
  {
   "cell_type": "code",
   "execution_count": 83,
   "id": "193e70b6",
   "metadata": {},
   "outputs": [],
   "source": [
    "#mail = input(\"enter your gmail\")\n",
    "#passwd = input(\"enter your password\")\n",
    "def Registration():\n",
    "    #mail = input(\"enter your gmail\")\n",
    "    \n",
    "    \n",
    "    #passwd = input(\"enter your password\")\n",
    "    \n",
    "    if username1() and password():\n",
    "        \n",
    "        data  = {}\n",
    "        file = open(\"registration.txt\",\"a+\")\n",
    "        \n",
    "        if mail not in file:\n",
    "            data[mail] = passwd\n",
    "            file.write(str(data) + \"\\n\")\n",
    "            file.close()\n",
    "            print(\"you have successfully registered...\")\n",
    "        \n",
    "            print(\"If you want to login to your account\")\n",
    "        \n",
    "            print(\"Enter Yes else Enter No \")\n",
    "        \n",
    "            inp = input(\"Enter your choice :\")\n",
    "        \n",
    "            if inp == \"Yes\":\n",
    "                login()\n",
    "            \n",
    "            else:\n",
    "                print(\"Thanks for choosing us, now you can login whenever neeeded, bye......\")\n",
    "        else:\n",
    "            print(\"This mail  alredy register..please try to register another mail  \")\n",
    "    \n",
    "        \n",
    "        \n",
    "            \n",
    "        \n",
    "        \n",
    "       "
   ]
  },
  {
   "cell_type": "markdown",
   "id": "fc93d812",
   "metadata": {},
   "source": [
    "# Password Validation"
   ]
  },
  {
   "cell_type": "code",
   "execution_count": 76,
   "id": "a1d2cd58",
   "metadata": {},
   "outputs": [],
   "source": [
    "#a = 0\n",
    "spec =  \"!#$%&'()*+,-./:;<=>?@[\\]^_`{|}~\"\n",
    "spec = list(spec)\n",
    "#print(spec)\n",
    "def password():\n",
    "    global passwd\n",
    "    passwd = input(\"enter your password :\")\n",
    "    k,c,d,j = 0,0,0,0\n",
    "    for b in passwd:\n",
    "        if b.isupper():\n",
    "            k = k+1\n",
    "        if b.islower():\n",
    "            c = c+1\n",
    "        if b.isdigit():\n",
    "            d = d+1\n",
    "        if (k and c and d)>0:\n",
    "            break\n",
    "    for s in spec:\n",
    "        if s in passwd:\n",
    "            j = j+1\n",
    "    if (5<len(passwd)<=15) and ((k and c and d and j) > 0):\n",
    "        print(\"Valid password\")\n",
    "        return True\n",
    "        \n",
    "    else:\n",
    "        print(\"Invalid password\")\n",
    "        return False\n",
    "#passwd = input(\"enter your password\")"
   ]
  },
  {
   "cell_type": "code",
   "execution_count": 77,
   "id": "04a578ff",
   "metadata": {},
   "outputs": [],
   "source": [
    "#password()"
   ]
  },
  {
   "cell_type": "markdown",
   "id": "7136c7ae",
   "metadata": {},
   "source": [
    "#  Gmail Validation"
   ]
  },
  {
   "cell_type": "code",
   "execution_count": 78,
   "id": "b06b1929",
   "metadata": {},
   "outputs": [],
   "source": [
    "def username1():\n",
    "    global mail\n",
    "    mail  = input(\"enter your username :\")\n",
    "    while 5<len(mail)<40:\n",
    "        #print(\"Valid username length , go for the other validation\")\n",
    "        if mail[0].isalpha():\n",
    "                print(\"valid sofar\")\n",
    "                \n",
    "                if (mail.index(\".\") - mail.index(\"@\"))>=2:\n",
    "                    print(\"valid username\")\n",
    "                    return True\n",
    "                    break\n",
    "                else:\n",
    "                    print(\"invalid username\")\n",
    "                    return False\n",
    "                    break\n",
    "                    \n",
    "        \n",
    "            # or call another validation function here\n",
    "        else:\n",
    "            print(\"Invalid username\")\n",
    "            \n",
    "            mail  = input(\"enter your username again :\")\n",
    "            return False\n",
    "            break\n",
    "            \n",
    "#mail=input(\"enter your mail\")\n"
   ]
  },
  {
   "cell_type": "markdown",
   "id": "852c8e0c",
   "metadata": {},
   "source": [
    "# Login"
   ]
  },
  {
   "cell_type": "code",
   "execution_count": 79,
   "id": "7d8429cb",
   "metadata": {},
   "outputs": [],
   "source": [
    "def login():\n",
    "    global flag\n",
    "    flag = False\n",
    "    #mail = input(\"enter your gmail\")\n",
    "    if username1() and password():\n",
    "        #passwd = input(\"enter your password\")\n",
    "        print(\"username and password validated\")\n",
    "        for line in open(\"registration.txt\",\"r\").readlines():\n",
    "            \n",
    "            flag = True\n",
    "            #print(type(line))\n",
    "            data  =  eval(line)\n",
    "            #print(data)\n",
    "            #print(type(data))\n",
    "            #data = line\n",
    "            data  = list(data.items())\n",
    "            #print(data[0][0])\n",
    "            if mail==data[0][0] and passwd==data[0][1]:\n",
    "                print(\"login successfully\")\n",
    "                break\n",
    "            else:\n",
    "                flag = False\n",
    "        \n",
    "        if flag == False:\n",
    "            print(\"your credentials doest match, if you are a new user kindly register\")\n",
    "            print(\"--------------------==========--------------------\")\n",
    "            print(\"if yes........... enter Yes else enter No\")\n",
    "            failed_cred = input(\"enter your choice 'Yes/No' :\")\n",
    "            \n",
    "            if failed_cred == \"Yes\":\n",
    "                print(\"Create your account now \")\n",
    "                Registration()\n",
    "            else:\n",
    "                print(\"Your login credentials are incorrect\")\n",
    "    \n",
    "    \n",
    "    \n",
    "    \n",
    "    \n",
    "     \n",
    "\n",
    "\n",
    "            \n",
    "        "
   ]
  },
  {
   "cell_type": "markdown",
   "id": "a724cdd7",
   "metadata": {},
   "source": [
    "# Access the operations"
   ]
  },
  {
   "cell_type": "code",
   "execution_count": 82,
   "id": "2ffe1882",
   "metadata": {},
   "outputs": [
    {
     "name": "stdout",
     "output_type": "stream",
     "text": [
      "Welcome to Muthyalamma committee \n",
      "choose 1 for Login , 2 for Registration\n",
      "Enter your choice (1 or 2) :2\n",
      "You have choosed to Register\n",
      "enter your username :ram@gmail.com\n",
      "valid sofar\n",
      "valid username\n",
      "enter your password :Sherlock@123\n",
      "Valid password\n",
      "you have successfully registered...\n",
      "If you want to login to your account\n",
      "Enter Yes else Enter No \n",
      "Enter your choice :Yes\n",
      "enter your username :ram@gmail.com\n",
      "valid sofar\n",
      "valid username\n",
      "enter your password :Sherlock@123\n",
      "Valid password\n",
      "username and password validated\n",
      "login successfully\n"
     ]
    }
   ],
   "source": [
    "print(\"Welcome to Muthyalamma committee \")\n",
    "\n",
    "print(\"choose 1 for Login , 2 for Registration\")\n",
    "\n",
    "userVal = int(input(\"Enter your choice (1 or 2) :\"))\n",
    "\n",
    "if userVal   == 1:\n",
    "    print(\"You have choosed to login\")\n",
    "    login()\n",
    "\n",
    "elif userVal   == 2:\n",
    "    print(\"You have choosed to Register\")\n",
    "    Registration()\n",
    "    \n",
    "else:\n",
    "    print(\"Invalid input, kindly enter your choice as either 1 or 2\")"
   ]
  },
  {
   "cell_type": "code",
   "execution_count": null,
   "id": "5f1fa45d",
   "metadata": {},
   "outputs": [],
   "source": []
  },
  {
   "cell_type": "code",
   "execution_count": null,
   "id": "ee54122d",
   "metadata": {},
   "outputs": [],
   "source": []
  },
  {
   "cell_type": "code",
   "execution_count": null,
   "id": "52015700",
   "metadata": {},
   "outputs": [],
   "source": []
  },
  {
   "cell_type": "code",
   "execution_count": null,
   "id": "94c08e67",
   "metadata": {},
   "outputs": [],
   "source": []
  },
  {
   "cell_type": "code",
   "execution_count": null,
   "id": "6aac5f48",
   "metadata": {},
   "outputs": [],
   "source": []
  },
  {
   "cell_type": "code",
   "execution_count": null,
   "id": "73739bf7",
   "metadata": {},
   "outputs": [],
   "source": []
  }
 ],
 "metadata": {
  "kernelspec": {
   "display_name": "Python 3 (ipykernel)",
   "language": "python",
   "name": "python3"
  },
  "language_info": {
   "codemirror_mode": {
    "name": "ipython",
    "version": 3
   },
   "file_extension": ".py",
   "mimetype": "text/x-python",
   "name": "python",
   "nbconvert_exporter": "python",
   "pygments_lexer": "ipython3",
   "version": "3.10.2"
  }
 },
 "nbformat": 4,
 "nbformat_minor": 5
}
